{
 "cells": [
  {
   "cell_type": "markdown",
   "id": "7adf8a22",
   "metadata": {},
   "source": [
    "# <div align=\"center\"><a name=\"titulo\"></a>Ocorrência de Câncer de Mama - UCI Machine Learning Repository</div>"
   ]
  },
  {
   "cell_type": "markdown",
   "id": "e53ddb6a",
   "metadata": {},
   "source": [
    "<br>\n",
    "<div align=\"center\"><img src=\"https://i.imgur.com/71iwWHI.png\"></div>\n",
    "<hr>"
   ]
  },
  {
   "attachments": {},
   "cell_type": "markdown",
   "id": "1ad478ee",
   "metadata": {},
   "source": [
    "<a name=\"indice\"></a>\n",
    "\n",
    "## Índice\n",
    "\n",
    "1. [Introdução](#introducao)\n",
    "2. [Preparação do Ambiente](#preparacao-ambiente)\n",
    "3. [Schema UCI e Tabela Breast Cancer](#tabela-breast-cancer)\n",
    "4. [Análise](#analise)\n",
    "    1. [Categorização](#categorizacao)\n",
    "    2. [Binarização](#binarizacao)\n",
    "    3. [Codificação](#codificacao)\n",
    "5. [Resultados](#resultados)"
   ]
  },
  {
   "cell_type": "markdown",
   "id": "bb985064",
   "metadata": {},
   "source": [
    "<a name=\"introducao\"></a>\n",
    "\n",
    "## 1. Introdução"
   ]
  },
  {
   "cell_type": "markdown",
   "id": "8a7bedaa",
   "metadata": {},
   "source": [
    "Esta análise irá explorar o campo das ciências biológicas e da saúde, especificamente na **ocorrência de câncer de mama**, por meio dos dados disponibilizados pelo **Centro de Machine Learning e Sistemas Inteligentes da Universidade da California (UCI)**, localizada nos Estados Unidos. \n",
    "\n",
    "O **câncer de mama** se caracteriza por ser o tipo **mais incidente** em mulheres no mundo totalizando acima de **2.5 milhões de casos** representando **25% de novos casos** de novas ocorrências de câncer em mulheres segundo o *IARC* (2020). No Brasil não é diferente sendo **o tipo mais indicente em mulheres em todas as regiões do país**. Segundo estimativas do *INCA*, em 2022, é previsto em torno de **685 mil casos** da doença por aqui.\n",
    "\n",
    "\n",
    "A pesquisa foi realizada pelo **Instituto de Oncologia do Centro Médico Universitário** de **Ljubljana** na ocasião da antiga Iugoslávia, hoje, capital da **Eslovênia**.\n",
    "\n",
    "O dataset é composto por **286 ocorrências** de câncer de mama se dividindo em duas classes:\n",
    "- **Recorrente**: possuindo 201 instâncias\n",
    "- **Não recorrente**: 85 instâncias\n",
    "\n",
    "E são descritos por 9 atributos, a seguir:\n",
    "- **Idade**\n",
    "- **Menopausa**: pré ou pós\n",
    "- **Tamanho do Tumor**: em milímetros\n",
    "- **Número de Nódulos**: 0 a 39\n",
    "- **Ocorrência de Metastase**\n",
    "- **Grau de Malignidade**: tendência de tumores se tornarem progressivamente piores. Grau 1 (menor) a 3 (maior)\n",
    "- **Seio**: esquerdo ou direito\n",
    "- **Quadrante de ocorrência**\n",
    "- **Irradiação**: ocorrência ou não de tratamento por radioterapia\n",
    "\n",
    "**Dataset em formato .names (pode ser aberto com Bloco de Notas. Pode-se renomear a extensão do arquivo para .csv) está disponível:**\n",
    "\n",
    " - [Projeto](breast-cancer.csv)\n",
    " - [UCI Machine Learning Repository](https://archive.ics.uci.edu/ml/machine-learning-databases/breast-cancer/breast-cancer.data)\n",
    "\n",
    "**Dicionário de dados em formato .data (pode ser aberto com Bloco de Notas) está disponível:**\n",
    " - [UCI Machine Learning Repository](https://archive.ics.uci.edu/ml/machine-learning-databases/breast-cancer/breast-cancer.names)\n",
    " - [UCI Machine Learning Repository](https://archive-beta.ics.uci.edu/ml/datasets/breast+cancer#Descriptive)\n",
    "\n",
    "<br>\n",
    "\n",
    "Zwitter, Matjaz & Soklic, Milan. (1988). Breast Cancer. UCI Machine Learning Repository.\n",
    "\n",
    "<hr>\n"
   ]
  },
  {
   "cell_type": "markdown",
   "id": "918ce804",
   "metadata": {},
   "source": [
    "<a name=\"preparacao-ambiente\"></a>\n",
    "\n",
    "## 2. Preparação do Ambiente\n",
    "\n",
    "[Início](#titulo)"
   ]
  },
  {
   "cell_type": "code",
   "execution_count": null,
   "id": "fb9766d7",
   "metadata": {},
   "outputs": [],
   "source": [
    "%pip install sqlalchemy\n",
    "%pip install ipython-sql"
   ]
  },
  {
   "cell_type": "code",
   "execution_count": 2,
   "id": "e1f0aac2",
   "metadata": {},
   "outputs": [],
   "source": [
    "#Bibliotecas\n",
    "\n",
    "from sqlalchemy import create_engine\n",
    "import sqlite3\n",
    "import csv\n",
    "\n",
    "# Conexão SQLite3: cria o banco de dados uci_ml.db\n",
    "conexao = sqlite3.connect('uci_ml.db')\n",
    "cursor = conexao.cursor()\n",
    "\n",
    "# Conexão ipython-sql - execução SQL em tempo de execução\n",
    "%reload_ext sql\n",
    "%sql sqlite+pysqlite:///uci_ml.db"
   ]
  },
  {
   "cell_type": "markdown",
   "id": "1a1b9f0c",
   "metadata": {},
   "source": [
    "<hr>"
   ]
  },
  {
   "attachments": {},
   "cell_type": "markdown",
   "id": "c9c4a43a",
   "metadata": {},
   "source": [
    "## <a name=\"tabela-breast-cancer\"></a>3. Tabela Breast Cancer\n",
    "\n",
    "[Início](#titulo)"
   ]
  },
  {
   "cell_type": "code",
   "execution_count": 8,
   "id": "064b775e",
   "metadata": {
    "vscode": {
     "languageId": "sql"
    }
   },
   "outputs": [
    {
     "name": "stdout",
     "output_type": "stream",
     "text": [
      " * sqlite+pysqlite:///uci_ml.db\n",
      "Done.\n"
     ]
    },
    {
     "data": {
      "text/plain": [
       "[]"
      ]
     },
     "execution_count": 8,
     "metadata": {},
     "output_type": "execute_result"
    }
   ],
   "source": [
    "%%sql\n",
    "\n",
    "/*Criação e estrutura da tabela tb_breast_cancer*/\n",
    "\n",
    "CREATE TABLE IF NOT EXISTS TB_BREAST_CANCER (\n",
    "  classe VARCHAR(100) NULL,\n",
    "  idade VARCHAR(45) NULL,\n",
    "  menopausa VARCHAR(45) NULL,\n",
    "  tamanho_tumor VARCHAR(45) NULL,\n",
    "  inv_nodes VARCHAR(45) NULL,\n",
    "  node_caps VARCHAR(3) NULL,\n",
    "  deg_malig INT NULL,\n",
    "  seio VARCHAR(5) NULL,\n",
    "  quadrante VARCHAR(10) NULL,\n",
    "  irradiando VARCHAR(3) NULL);\n"
   ]
  },
  {
   "cell_type": "code",
   "execution_count": 9,
   "id": "4327d0ac",
   "metadata": {},
   "outputs": [],
   "source": [
    "# Extração dos dados e inserção na tabela tb_breast_cancer\n",
    "with open('breast-cancer.csv','r') as dataset:\n",
    "    breast_cancer_data = csv.reader(dataset, delimiter=',',,)\n",
    "    conexao.executemany('INSERT INTO TB_BREAST_CANCER VALUES (?, ?, ?, ?, ?, ?, ?, ?, ?, ?)',breast_cancer_data)\n",
    "    conexao.commit()"
   ]
  },
  {
   "cell_type": "markdown",
   "id": "19d4bccc",
   "metadata": {},
   "source": [
    "<hr>"
   ]
  },
  {
   "cell_type": "markdown",
   "id": "51709f67",
   "metadata": {},
   "source": [
    "## <a name=\"analise\"></a> 4. Análise"
   ]
  },
  {
   "cell_type": "markdown",
   "id": "2d6466a2",
   "metadata": {},
   "source": [
    "### <a name=\"tipo-variavel\"></a>4.1. Tipos de Variáveis\n",
    "\n",
    "Na Estatística Descritiva, em um modo sucinto, as variáveis podem ser classificadas em **qualitativas** ou **quantitativas**\n",
    "\n",
    "As **qualitativas ou categóricas** expressam atributos que podem ser separados em diferentes categorias que se diferem por caraterísticas não numéricas. Podem ser:\n",
    "\n",
    "1. **Nominais** em que não há uma ordenação específica: \n",
    "    - Gênero de uma pessoa (cisgênero/ transgênero/ não-binário)\n",
    "    - Cor dos olhos (negros/ azuis/ verdes/ etc)\n",
    "    - Categorias de filmes (terros/drama/ação/etc)\n",
    "    - Etc\n",
    "\n",
    "2. **Ordinais** quando existe certa ordem em seus valores\n",
    "    - Nível de resfriamento de um congelador: baixo, médio, alto\n",
    "    - Nível de aquecimento de um chuveiro: frio, morno e médio\n",
    "    - Etc\n",
    "\n",
    "\n",
    "As **quantitativas** são aquelas que podem ser medidas ou contabilizadas em termos de números. Elas podem ser \n",
    "\n",
    "1. **Discretas** quando resultam de um conjunto finito (enumerável, contável) de valores possíveis. Representam ***contagens***\n",
    "    - Total de livros de uma biblioteca\n",
    "    - Total de pessoas um evento\n",
    "    - Quantidade de votos em uma eleição\n",
    "    - Carros em um estacionamento\n",
    "\n",
    "2. **Contínuas** quando resultam de um número infinito de valores possíveis que possam ser associados em uma escala contínua. São resultantes de ***medições***\n",
    "    - Valores de criptomoedas\n",
    "    - Altura de uma pessoa (m, cm, in, etc)\n",
    "    - Peso de alimentos (kgf, gf, dgf)\n",
    "\n",
    "[Início](#titulo)"
   ]
  },
  {
   "cell_type": "markdown",
   "id": "5077c81d",
   "metadata": {},
   "source": [
    "### <a name=\"categorizacao\"></a>4.2. Categorização\n",
    "\n",
    "A **categorização** consiste em converter uma variável quantitativa para o tipo **categórico**. Um bom exemplo seria converter um atributo como a **idade** de uma pessoa (Ex: 20) para um **faixa etária** (Ex: 20 a 30 anos)\n",
    "\n",
    "No dataset o atributo **tamanho_tumor** pode assumir estes possíveis valores de acordo com o dicionário de dados. A medição é em milímetros:\n",
    "\n",
    "0-4, 5-9, 10-14, 15-19, 20-24, 25-29, 30-34, 35-39, 40-44, 45-49, 50-54, 55-59\n",
    "\n",
    "Como são 12 valores podemos realizar uma categorização para 6 conjuntos de valores (categorias):\n",
    "\n",
    " - **Muito Pequeno**: 0-4, 5-9\n",
    " - **Pequeno**: 10-14, 15-19\n",
    " - **Médio Baixo**: 20-24, 25-29\n",
    " - **Médio Grande**: 30-34, 35-39\n",
    " - **Grande**: 40-44, 45-49\n",
    " - **Muito Grande**: 50-54, 55-59\n",
    "\n",
    " Utilizando SQL temos:\n",
    " \n",
    " [Início](#titulo)"
   ]
  },
  {
   "cell_type": "code",
   "execution_count": 29,
   "id": "be4d740d",
   "metadata": {
    "vscode": {
     "languageId": "sql"
    }
   },
   "outputs": [
    {
     "name": "stdout",
     "output_type": "stream",
     "text": [
      " * sqlite+pysqlite:///uci_ml.db\n",
      "Done.\n"
     ]
    },
    {
     "data": {
      "text/html": [
       "<table>\n",
       "    <thead>\n",
       "        <tr>\n",
       "            <th>Tamanho do Tumor (em mm)</th>\n",
       "        </tr>\n",
       "    </thead>\n",
       "    <tbody>\n",
       "        <tr>\n",
       "            <td>0-4</td>\n",
       "        </tr>\n",
       "        <tr>\n",
       "            <td>10-14</td>\n",
       "        </tr>\n",
       "        <tr>\n",
       "            <td>15-19</td>\n",
       "        </tr>\n",
       "        <tr>\n",
       "            <td>20-24</td>\n",
       "        </tr>\n",
       "        <tr>\n",
       "            <td>25-29</td>\n",
       "        </tr>\n",
       "        <tr>\n",
       "            <td>30-34</td>\n",
       "        </tr>\n",
       "        <tr>\n",
       "            <td>35-39</td>\n",
       "        </tr>\n",
       "        <tr>\n",
       "            <td>40-44</td>\n",
       "        </tr>\n",
       "        <tr>\n",
       "            <td>45-49</td>\n",
       "        </tr>\n",
       "        <tr>\n",
       "            <td>5-9</td>\n",
       "        </tr>\n",
       "        <tr>\n",
       "            <td>50-54</td>\n",
       "        </tr>\n",
       "    </tbody>\n",
       "</table>"
      ],
      "text/plain": [
       "[('0-4',),\n",
       " ('10-14',),\n",
       " ('15-19',),\n",
       " ('20-24',),\n",
       " ('25-29',),\n",
       " ('30-34',),\n",
       " ('35-39',),\n",
       " ('40-44',),\n",
       " ('45-49',),\n",
       " ('5-9',),\n",
       " ('50-54',)]"
      ]
     },
     "execution_count": 29,
     "metadata": {},
     "output_type": "execute_result"
    }
   ],
   "source": [
    "%%sql\n",
    "/* Averiguar os registros */\n",
    "\n",
    "SELECT DISTINCT\n",
    "    tamanho_tumor AS 'Tamanho do Tumor (em mm)'\n",
    "FROM\n",
    "    tb_breast_cancer\n",
    "ORDER BY tamanho_tumor ASC;"
   ]
  },
  {
   "cell_type": "markdown",
   "id": "90b83194",
   "metadata": {},
   "source": [
    "Podemos observar que não houve ocorrências de tumor com medidas de 55 a 59 mm o que caracterizaria como *Muito Grande*, porém há ocorrências de tamanho 50 a 54 mm por isso manteremos essa categoria. "
   ]
  },
  {
   "cell_type": "code",
   "execution_count": 28,
   "id": "90357756",
   "metadata": {
    "vscode": {
     "languageId": "sql"
    }
   },
   "outputs": [
    {
     "name": "stdout",
     "output_type": "stream",
     "text": [
      " * sqlite+pysqlite:///uci_ml.db\n",
      "Done.\n"
     ]
    },
    {
     "data": {
      "text/html": [
       "<table>\n",
       "    <thead>\n",
       "        <tr>\n",
       "            <th>tamanho_tumor</th>\n",
       "            <th>Categoria</th>\n",
       "        </tr>\n",
       "    </thead>\n",
       "    <tbody>\n",
       "        <tr>\n",
       "            <td>0-4</td>\n",
       "            <td>Muito Pequeno</td>\n",
       "        </tr>\n",
       "        <tr>\n",
       "            <td>10-14</td>\n",
       "            <td>Pequeno</td>\n",
       "        </tr>\n",
       "        <tr>\n",
       "            <td>15-19</td>\n",
       "            <td>Pequeno</td>\n",
       "        </tr>\n",
       "        <tr>\n",
       "            <td>20-24</td>\n",
       "            <td>Médio Baixo</td>\n",
       "        </tr>\n",
       "        <tr>\n",
       "            <td>25-29</td>\n",
       "            <td>Médio Baixo</td>\n",
       "        </tr>\n",
       "        <tr>\n",
       "            <td>30-34</td>\n",
       "            <td>Médio Alto</td>\n",
       "        </tr>\n",
       "        <tr>\n",
       "            <td>35-39</td>\n",
       "            <td>Médio Alto</td>\n",
       "        </tr>\n",
       "        <tr>\n",
       "            <td>40-44</td>\n",
       "            <td>Grande</td>\n",
       "        </tr>\n",
       "        <tr>\n",
       "            <td>45-49</td>\n",
       "            <td>Grande</td>\n",
       "        </tr>\n",
       "        <tr>\n",
       "            <td>5-9</td>\n",
       "            <td>Muito Pequeno</td>\n",
       "        </tr>\n",
       "        <tr>\n",
       "            <td>50-54</td>\n",
       "            <td>Muito Grande</td>\n",
       "        </tr>\n",
       "    </tbody>\n",
       "</table>"
      ],
      "text/plain": [
       "[('0-4', 'Muito Pequeno'),\n",
       " ('10-14', 'Pequeno'),\n",
       " ('15-19', 'Pequeno'),\n",
       " ('20-24', 'Médio Baixo'),\n",
       " ('25-29', 'Médio Baixo'),\n",
       " ('30-34', 'Médio Alto'),\n",
       " ('35-39', 'Médio Alto'),\n",
       " ('40-44', 'Grande'),\n",
       " ('45-49', 'Grande'),\n",
       " ('5-9', 'Muito Pequeno'),\n",
       " ('50-54', 'Muito Grande')]"
      ]
     },
     "execution_count": 28,
     "metadata": {},
     "output_type": "execute_result"
    }
   ],
   "source": [
    "%%sql\n",
    "\n",
    "/*Apenas valores distintos para exemplificação. Aplicação em todo dataset não utilizar o comando DISTINCT */\n",
    "\n",
    "SELECT DISTINCT\n",
    "    tamanho_tumor,\n",
    "    CASE\n",
    "        WHEN tamanho_tumor IN ('0-4' , '5-9') THEN 'Muito Pequeno'\n",
    "        WHEN tamanho_tumor IN ('10-14' , '15-19') THEN 'Pequeno'\n",
    "        WHEN tamanho_tumor IN ('20-24' , '25-29') THEN 'Médio Baixo'\n",
    "        WHEN tamanho_tumor IN ('30-34' , '35-39') THEN 'Médio Alto'\n",
    "        WHEN tamanho_tumor IN ('40-44' , '45-49') THEN 'Grande'\n",
    "        WHEN tamanho_tumor IN ('50-54' , '55-59') THEN 'Muito Grande'\n",
    "    END AS 'Categoria'\n",
    "FROM\n",
    "    tb_breast_cancer\n",
    "ORDER BY tamanho_tumor ASC;"
   ]
  },
  {
   "cell_type": "markdown",
   "id": "946d3239",
   "metadata": {},
   "source": [
    "### <a name=\"binarizacao\"></a>4.3. Binarização\n",
    "\n",
    "Este técnica consistem em converter variáveis qualitativas em valores 0 ou 1. Normalmente é aplicado quando a variável assume apenas dois valores como *sim/não*, *verdadeiro/falso*, etc.\n",
    "\n",
    "Podemos aplicar em nosso dataset no campo *classe* onde há apenas recorrência ou não-recorrência da doença.\n",
    "\n",
    "[Início](#titulo)"
   ]
  },
  {
   "cell_type": "code",
   "execution_count": 27,
   "id": "b7504e84",
   "metadata": {
    "vscode": {
     "languageId": "sql"
    }
   },
   "outputs": [
    {
     "name": "stdout",
     "output_type": "stream",
     "text": [
      " * sqlite+pysqlite:///uci_ml.db\n",
      "Done.\n"
     ]
    },
    {
     "data": {
      "text/html": [
       "<table>\n",
       "    <thead>\n",
       "        <tr>\n",
       "            <th>classe</th>\n",
       "            <th>Recorrência</th>\n",
       "        </tr>\n",
       "    </thead>\n",
       "    <tbody>\n",
       "        <tr>\n",
       "            <td>no-recurrence-events</td>\n",
       "            <td>0</td>\n",
       "        </tr>\n",
       "        <tr>\n",
       "            <td>recurrence-events</td>\n",
       "            <td>1</td>\n",
       "        </tr>\n",
       "    </tbody>\n",
       "</table>"
      ],
      "text/plain": [
       "[('no-recurrence-events', 0), ('recurrence-events', 1)]"
      ]
     },
     "execution_count": 27,
     "metadata": {},
     "output_type": "execute_result"
    }
   ],
   "source": [
    "%%sql\n",
    "\n",
    "/* Apenas valores distintos para exemplificação. Aplicação em todo dataset não utilizar o comando DISTINCT */\n",
    "\n",
    "SELECT DISTINCT classe,\n",
    "    CASE\n",
    "        WHEN classe = 'no-recurrence-events' THEN 0\n",
    "        WHEN classe = 'recurrence-events' THEN 1\n",
    "    END AS 'Recorrência'\n",
    "\n",
    "FROM tb_breast_cancer"
   ]
  },
  {
   "cell_type": "markdown",
   "id": "1243e144",
   "metadata": {},
   "source": [
    "### <a name=\"codificacao\"></a>4.4. Codificação\n",
    "\n",
    "A *codificação* é uma técnicas de conversão de dados categóricos para dados quantitativos por meio de uma representação numérica sem perder a essência da informação. Muito algoritmos de não conseguem processar dados que não sejam números. Por este motivo se faz necessária a codificação. A técnica pode se dar por duas formas.  \n",
    "\n",
    "\n",
    "#### <a name=\"label-encoding\"></a>4.4.1. Label-Encoding\n",
    "Normalmente utilizado em variáveis que possuem poucas categorias (até 5 normalmente). Atribui um número para cada etiqueta (label/categoria) que a variável apresenta. Um exemplo em uma coluna com cores seria 1 para azul, 2 para amarelo, 3 para ver e assim por diante.\n",
    "\n",
    "| Cor_Olhos | Cor_Label |\n",
    "| :---: | :---: |\n",
    "| Azul | 1 |\n",
    "| Amarelo | 2 |\n",
    "| Verde | 3 |\n",
    "\n",
    "O estudo apresenta em sua variável ***Quadrante*** a localização dos nódulos cancerígenos em:\n",
    "- **Left-Low (Esquerdo-Baixo)**\n",
    "- **Left-Up (Esquerdo-Alto)**\n",
    "- **Right-Up (Direito-Alto)**\n",
    "- **Right-low (Direito-Baixo)**\n",
    "- **Central (Centro)**\n",
    "\n",
    "Podemos fazer o *label-encoding* atribuindo valores de 1 a 5 para cada uma das categorias. Para valores ausentes (NULL) atribui-se 0. \n",
    "\n",
    "Seguindo a ordem das etiquetas acima temos o código em SQL:\n",
    "\n",
    "[Início](#titulo)"
   ]
  },
  {
   "cell_type": "code",
   "execution_count": 26,
   "id": "e611983b",
   "metadata": {
    "vscode": {
     "languageId": "sql"
    }
   },
   "outputs": [
    {
     "name": "stdout",
     "output_type": "stream",
     "text": [
      " * sqlite+pysqlite:///uci_ml.db\n",
      "Done.\n"
     ]
    },
    {
     "data": {
      "text/html": [
       "<table>\n",
       "    <thead>\n",
       "        <tr>\n",
       "            <th>quadrante</th>\n",
       "        </tr>\n",
       "    </thead>\n",
       "    <tbody>\n",
       "        <tr>\n",
       "            <td>left_low</td>\n",
       "        </tr>\n",
       "        <tr>\n",
       "            <td>right_up</td>\n",
       "        </tr>\n",
       "        <tr>\n",
       "            <td>left_up</td>\n",
       "        </tr>\n",
       "        <tr>\n",
       "            <td>right_low</td>\n",
       "        </tr>\n",
       "        <tr>\n",
       "            <td>central</td>\n",
       "        </tr>\n",
       "        <tr>\n",
       "            <td>?</td>\n",
       "        </tr>\n",
       "    </tbody>\n",
       "</table>"
      ],
      "text/plain": [
       "[('left_low',),\n",
       " ('right_up',),\n",
       " ('left_up',),\n",
       " ('right_low',),\n",
       " ('central',),\n",
       " ('?',)]"
      ]
     },
     "execution_count": 26,
     "metadata": {},
     "output_type": "execute_result"
    }
   ],
   "source": [
    "%%sql\n",
    "\n",
    "/* Averiguar os registros */\n",
    "SELECT DISTINCT\n",
    "    quadrante\n",
    "FROM\n",
    "    tb_breast_cancer;"
   ]
  },
  {
   "cell_type": "code",
   "execution_count": 25,
   "id": "0cb9af8e",
   "metadata": {
    "vscode": {
     "languageId": "sql"
    }
   },
   "outputs": [
    {
     "name": "stdout",
     "output_type": "stream",
     "text": [
      " * sqlite+pysqlite:///uci_ml.db\n",
      "Done.\n"
     ]
    },
    {
     "data": {
      "text/html": [
       "<table>\n",
       "    <thead>\n",
       "        <tr>\n",
       "            <th>quadrante</th>\n",
       "            <th>Quadrante</th>\n",
       "        </tr>\n",
       "    </thead>\n",
       "    <tbody>\n",
       "        <tr>\n",
       "            <td>?</td>\n",
       "            <td>0</td>\n",
       "        </tr>\n",
       "        <tr>\n",
       "            <td>left_low</td>\n",
       "            <td>1</td>\n",
       "        </tr>\n",
       "        <tr>\n",
       "            <td>left_up</td>\n",
       "            <td>2</td>\n",
       "        </tr>\n",
       "        <tr>\n",
       "            <td>right_up</td>\n",
       "            <td>3</td>\n",
       "        </tr>\n",
       "        <tr>\n",
       "            <td>right_low</td>\n",
       "            <td>4</td>\n",
       "        </tr>\n",
       "        <tr>\n",
       "            <td>central</td>\n",
       "            <td>5</td>\n",
       "        </tr>\n",
       "    </tbody>\n",
       "</table>"
      ],
      "text/plain": [
       "[('?', 0),\n",
       " ('left_low', 1),\n",
       " ('left_up', 2),\n",
       " ('right_up', 3),\n",
       " ('right_low', 4),\n",
       " ('central', 5)]"
      ]
     },
     "execution_count": 25,
     "metadata": {},
     "output_type": "execute_result"
    }
   ],
   "source": [
    "%%sql\n",
    "\n",
    "/* Apenas valores distintos para exemplificação. Aplicação em todo dataset não utilizar o comando DISTINCT */\n",
    "\n",
    "SELECT DISTINCT quadrante,\n",
    "    CASE\n",
    "        WHEN quadrante = 'left_low' THEN 1\n",
    "        WHEN quadrante = 'left_up' THEN 2\n",
    "        WHEN quadrante = 'right_up' THEN 3\n",
    "        WHEN quadrante = 'right_low' THEN 4\n",
    "        WHEN quadrante = 'central' THEN 5\n",
    "        ELSE 0\n",
    "    END AS Quadrante\n",
    "FROM\n",
    "    tb_breast_cancer\n",
    "ORDER BY\n",
    "    quadrante;"
   ]
  },
  {
   "cell_type": "markdown",
   "id": "a70dbadc",
   "metadata": {},
   "source": [
    "#### <a name=\"one-hot-encoding\"></a> 4.4.2. One-Hot Encoding\n",
    "\n",
    "O *Label-Encoding* possui um desvantagem já que em certos algoritmos de Machine Learning podem interpretar estes valores crescente como um hierarquia/ordem o que nem sempre é o desejado.\n",
    "A resolução desta questão está no *One-Hot Encoding*. Esta prática cada etiqueta é convertida em uma nova coluna assumindo somente valores de 0 ou 1. É um caso especial de *binarização* como visto acima. Teria algo em torno deste aspecto:\n",
    "\n",
    "| Cor_Olhos | Cor_Label_Azul | Cor_Label_Amarelo | Cor_Label_Verde |\n",
    "| :---: | :---: | :---: | :---: |\n",
    "| Azul | 1 | 0 | 0 |\n",
    "| Amarelo | 0 | 1 | 0 |\n",
    "| Verde | 0 | 0 | 1 |\n",
    "\n",
    "O campo *Seio* traz informações sobre qual dos lados foi afetado, esquerdo ou direito. A codificação *One-Hot Encoding* assume esta forma:\n",
    "\n",
    "[Início](#titulo)"
   ]
  },
  {
   "cell_type": "code",
   "execution_count": 24,
   "id": "c342ff44",
   "metadata": {
    "vscode": {
     "languageId": "sql"
    }
   },
   "outputs": [
    {
     "name": "stdout",
     "output_type": "stream",
     "text": [
      " * sqlite+pysqlite:///uci_ml.db\n",
      "Done.\n"
     ]
    },
    {
     "data": {
      "text/html": [
       "<table>\n",
       "    <thead>\n",
       "        <tr>\n",
       "            <th>seio</th>\n",
       "            <th>Seio_Label_Esquerdo</th>\n",
       "            <th>Seio_Label_Direito</th>\n",
       "        </tr>\n",
       "    </thead>\n",
       "    <tbody>\n",
       "        <tr>\n",
       "            <td>left</td>\n",
       "            <td>1</td>\n",
       "            <td>0</td>\n",
       "        </tr>\n",
       "        <tr>\n",
       "            <td>right</td>\n",
       "            <td>0</td>\n",
       "            <td>1</td>\n",
       "        </tr>\n",
       "    </tbody>\n",
       "</table>"
      ],
      "text/plain": [
       "[('left', 1, 0), ('right', 0, 1)]"
      ]
     },
     "execution_count": 24,
     "metadata": {},
     "output_type": "execute_result"
    }
   ],
   "source": [
    "%%sql \n",
    "\n",
    "/* Apenas valores distintos para exemplificação. Aplicação em todo dataset não utilizar o comando DISTINCT */\n",
    "\n",
    "SELECT DISTINCT seio,\n",
    "    CASE\n",
    "        WHEN seio = 'left' then 1\n",
    "        ELSE 0\n",
    "    END as 'Seio_Label_Esquerdo',\n",
    "\n",
    "    CASE\n",
    "    WHEN seio = 'right' THEN 1\n",
    "        ELSE 0\n",
    "    END AS 'Seio_Label_Direito'\n",
    "\n",
    "FROM\n",
    "    tb_breast_cancer;\n"
   ]
  },
  {
   "cell_type": "markdown",
   "id": "3e6921ab",
   "metadata": {},
   "source": [
    "## <a name=\"resultados\"></a>5. Resultados - Novo Dataset\n",
    "\n",
    "A partir de todas as análises acima podemos criar um novo dataset que esteja adequado à análise e prática de Machine Learning de acordo com os parâmetros acima. Aplicaremos desta vez a todo dataset\n",
    "\n",
    "[Início](#titulo)"
   ]
  },
  {
   "cell_type": "code",
   "execution_count": null,
   "id": "de2c809d",
   "metadata": {
    "vscode": {
     "languageId": "sql"
    }
   },
   "outputs": [],
   "source": [
    "%%sql\n",
    "\n",
    "SELECT \n",
    "    CASE\n",
    "        WHEN classe = 'no-recurrence-events' THEN 0\n",
    "        WHEN classe = 'recurrence-events' THEN 1\n",
    "    END AS 'Recorrência',\n",
    "    idade, menopausa,\n",
    "    CASE\n",
    "        WHEN tamanho_tumor IN ('0-4' , '5-9') THEN 'Muito Pequeno'\n",
    "        WHEN tamanho_tumor IN ('10-14' , '15-19') THEN 'Pequeno'\n",
    "        WHEN tamanho_tumor IN ('20-24' , '25-29') THEN 'Médio Baixo'\n",
    "        WHEN tamanho_tumor IN ('30-34' , '35-39') THEN 'Médio Alto'\n",
    "        WHEN tamanho_tumor IN ('40-44' , '45-49') THEN 'Grande'\n",
    "        WHEN tamanho_tumor IN ('50-54' , '55-59') THEN 'Muito Grande'\n",
    "    END AS 'Tamanho_Tumor',\n",
    "    inv_nodes, node_caps, deg_malig,\n",
    "    CASE\n",
    "        WHEN seio = 'left' then 1\n",
    "        ELSE 0\n",
    "    END as 'Seio_Label_Esquerdo',\n",
    "    CASE\n",
    "    WHEN seio = 'right' THEN 1\n",
    "        ELSE 0\n",
    "    END AS 'Seio_Label_Direito',\n",
    "    CASE\n",
    "        WHEN quadrante = 'left_low' THEN 1\n",
    "        WHEN quadrante = 'left_up' THEN 2\n",
    "        WHEN quadrante = 'right_up' THEN 3\n",
    "        WHEN quadrante = 'right_low' THEN 4\n",
    "        WHEN quadrante = 'central' THEN 5\n",
    "        ELSE 0\n",
    "    END AS Quadrante,\n",
    "\n",
    "    irradiando\n",
    "\n",
    "FROM tb_breast_cancer"
   ]
  },
  {
   "cell_type": "code",
   "execution_count": 31,
   "id": "c1639ebb",
   "metadata": {},
   "outputs": [],
   "source": [
    "# Encerrando a conexão com o banco uci_ml.db\n",
    "conexao.close()"
   ]
  }
 ],
 "metadata": {
  "kernelspec": {
   "display_name": "Python 3",
   "language": "python",
   "name": "python3"
  },
  "language_info": {
   "codemirror_mode": {
    "name": "ipython",
    "version": 3
   },
   "file_extension": ".py",
   "mimetype": "text/x-python",
   "name": "python",
   "nbconvert_exporter": "python",
   "pygments_lexer": "ipython3",
   "version": "3.12.3"
  },
  "vscode": {
   "interpreter": {
    "hash": "c0c2d29a21b0c8883b4971ec402c682a0b466e7ede82ea13623912c2db66f278"
   }
  }
 },
 "nbformat": 4,
 "nbformat_minor": 5
}
